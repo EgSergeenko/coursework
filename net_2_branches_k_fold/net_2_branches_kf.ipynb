{
 "cells": [
  {
   "cell_type": "code",
   "execution_count": null,
   "metadata": {},
   "outputs": [],
   "source": [
    "import os\n",
    "import warnings\n",
    "import pickle\n",
    "import time\n",
    "from threading import Thread\n",
    "\n",
    "import wandb\n",
    "import GPUtil\n",
    "import numpy as np\n",
    "from PIL import Image\n",
    "from skimage import io\n",
    "from prettytable import PrettyTable\n",
    "\n",
    "from sklearn.model_selection import StratifiedKFold\n",
    "from sklearn.metrics import f1_score, precision_score, recall_score, accuracy_score, average_precision_score\n",
    "\n",
    "import torch\n",
    "import torch.nn as nn\n",
    "from torch.optim import Adam\n",
    "import torch.nn.functional as F\n",
    "from torchvision import transforms\n",
    "from torchvision.models import resnet34\n",
    "from torch.utils.data import Dataset, DataLoader, SubsetRandomSampler"
   ]
  },
  {
   "cell_type": "code",
   "execution_count": null,
   "metadata": {},
   "outputs": [],
   "source": [
    "warnings.filterwarnings('ignore')"
   ]
  },
  {
   "cell_type": "code",
   "execution_count": null,
   "metadata": {},
   "outputs": [],
   "source": [
    "wandb.init(project='net_2_branches_2')"
   ]
  },
  {
   "cell_type": "code",
   "execution_count": null,
   "metadata": {},
   "outputs": [],
   "source": [
    "DEVICE_ID = 0\n",
    "if torch.cuda.is_available():\n",
    "    dev = f'cuda:{DEVICE_ID}'\n",
    "else:\n",
    "    dev = 'cpu'\n",
    "device = torch.device(dev)\n",
    "print(f'Current device: {dev}')"
   ]
  },
  {
   "cell_type": "code",
   "execution_count": null,
   "metadata": {},
   "outputs": [],
   "source": [
    "# IMAGES_DIR = '/mnt/tank/scratch/esergeenko/net_2_branches/'\n",
    "IMAGES_DIR = 'net_dis_morph/'\n",
    "LABELS_DISEASES_FILE = 'net_2_branches_diseases.pickle'\n",
    "LABELS_MORPHOLOGY_FILE = 'net_2_branches_morphology.pickle'"
   ]
  },
  {
   "cell_type": "code",
   "execution_count": null,
   "metadata": {},
   "outputs": [],
   "source": [
    "wandb.config.lr = 0.0001\n",
    "wandb.config.batch_size = 32\n",
    "wandb.config.epochs = 100\n",
    "wandb.config.fold_index = 0"
   ]
  },
  {
   "cell_type": "code",
   "execution_count": null,
   "metadata": {},
   "outputs": [],
   "source": [
    "CHANNELS = 3\n",
    "HEIGHT = 224\n",
    "WIDTH = 224"
   ]
  },
  {
   "cell_type": "code",
   "execution_count": null,
   "metadata": {},
   "outputs": [],
   "source": [
    "with open(LABELS_DISEASES_FILE, 'rb') as f:\n",
    "    labels_diseases = pickle.load(f)\n",
    "with open(LABELS_MORPHOLOGY_FILE, 'rb') as f:\n",
    "    labels_morphology = np.array(pickle.load(f))"
   ]
  },
  {
   "cell_type": "code",
   "execution_count": null,
   "metadata": {},
   "outputs": [],
   "source": [
    "class Monitor(Thread):\n",
    "    def __init__(self, delay):\n",
    "        super(Monitor, self).__init__()\n",
    "        self.stopped = False\n",
    "        self.delay = delay\n",
    "        self.start()\n",
    "\n",
    "    def run(self):\n",
    "        while not self.stopped:\n",
    "            for gpu in GPUtil.getGPUs():\n",
    "                if gpu.id == 0:\n",
    "                    print('|'.join([f'{\"ID\": ^5}', f'{\"GPU util.\": ^10}', f'{\"Memory util.\": ^14}', f'{\"Memory used\": ^14}',\n",
    "                                    f'{\"Memory total\": ^14}', f'{\"T\": ^6}']))\n",
    "                    print('|'.join([f'{gpu.id: ^5}', f'{f\"{int(gpu.load * 100)}%\": ^10}', f'{f\"{int(gpu.memoryUtil * 100)}%\": ^14}',\n",
    "                                    f'{f\"{int(gpu.memoryUsed)}MB\": ^14}', f'{f\"{int(gpu.memoryTotal)}MB\": ^14}',\n",
    "                                    f'{f\"{int(gpu.memoryUsed)}С°\": ^6}']))\n",
    "                                print(gpu_stats)\n",
    "            time.sleep(self.delay)\n",
    "\n",
    "    def stop(self):\n",
    "        self.stopped = True"
   ]
  },
  {
   "cell_type": "code",
   "execution_count": null,
   "metadata": {},
   "outputs": [],
   "source": [
    "def pretty_print_time(seconds):\n",
    "    seconds = int(seconds)\n",
    "    hours, seconds = divmod(seconds, 3600)\n",
    "    minutes, seconds = divmod(seconds, 60)\n",
    "    print(f'Time spent: {hours}:{minutes}:{seconds}')"
   ]
  },
  {
   "cell_type": "code",
   "execution_count": null,
   "metadata": {},
   "outputs": [],
   "source": [
    "def timeit(func):\n",
    "    def timed(*args, **kwargs):\n",
    "        start = time.time()\n",
    "        result = func(*args, **kwargs)\n",
    "        end = time.time()\n",
    "        pretty_print_time(end - start)\n",
    "        return result\n",
    "    return timed"
   ]
  },
  {
   "cell_type": "code",
   "execution_count": null,
   "metadata": {},
   "outputs": [],
   "source": [
    "class CustomCrop:\n",
    "    \n",
    "    def __call__(self, sample):\n",
    "        shape = sample.shape\n",
    "        min_dimension = min(shape[1], shape[2])\n",
    "        center_crop = transforms.CenterCrop(min_dimension)\n",
    "        sample = center_crop(sample)\n",
    "        return sample"
   ]
  },
  {
   "cell_type": "code",
   "execution_count": null,
   "metadata": {},
   "outputs": [],
   "source": [
    "primary_transforms = transforms.Compose(\n",
    "    [transforms.PILToTensor(), CustomCrop(), transforms.Resize((WIDTH, HEIGHT))])"
   ]
  },
  {
   "cell_type": "code",
   "execution_count": null,
   "metadata": {},
   "outputs": [],
   "source": [
    "@timeit\n",
    "def get_images(transforms, n, log_step):\n",
    "    images = torch.empty((n, CHANNELS, WIDTH, HEIGHT), dtype=torch.uint8)\n",
    "    for i in range(n):\n",
    "        if (i + 1) % log_step == 0:\n",
    "            print(f'Images loaded: {i + 1}/{n}')\n",
    "        image = Image.open(IMAGES_DIR + f'{i}.jpg')\n",
    "        images[i] = transforms(image).detach().clone()\n",
    "    print('Images were loaded from the disk.')\n",
    "    return images"
   ]
  },
  {
   "cell_type": "code",
   "execution_count": null,
   "metadata": {},
   "outputs": [],
   "source": [
    "images = get_images(primary_transforms, len(labels_diseases), 5000)"
   ]
  },
  {
   "cell_type": "code",
   "execution_count": null,
   "metadata": {},
   "outputs": [],
   "source": [
    "class Net(nn.Module):\n",
    "    def __init__(self, resnet, out_features_diseases, out_features_morph):\n",
    "        super(Net, self).__init__()\n",
    "        self.base_model = nn.Sequential(*list(resnet.children())[:-1])\n",
    "        self.branch_1 = nn.Linear(512, out_features_diseases)\n",
    "        self.branch_2 = nn.Linear(512, out_features_morph)\n",
    "        \n",
    "    def forward(self, x):\n",
    "        x = self.base_model(x)\n",
    "        x = torch.flatten(x, 1)\n",
    "        x1 = self.branch_1(x)\n",
    "        x2 = self.branch_2(x)\n",
    "        return x1, x2"
   ]
  },
  {
   "cell_type": "code",
   "execution_count": null,
   "metadata": {},
   "outputs": [],
   "source": [
    "class MorphDisDataset(Dataset):\n",
    "\n",
    "    def __init__(self, images, labels_diseases, labels_morphology, transform):\n",
    "        self.images = images\n",
    "        self.transform = transform\n",
    "        self.labels_diseases = labels_diseases\n",
    "        self.labels_morphology = labels_morphology\n",
    "\n",
    "    def __len__(self):\n",
    "        return len(self.images)\n",
    "\n",
    "    def __getitem__(self, idx):\n",
    "\n",
    "        image = self.images[idx].float() / 255\n",
    "        labels_morphology = self.labels_morphology[idx]\n",
    "        labels_diseases = self.labels_diseases[idx]\n",
    "\n",
    "        if self.transform:\n",
    "            sample = {'image': self.transform(image), 'labels_diseases': labels_diseases,\n",
    "                      'labels_morphology': labels_morphology}\n",
    "        else:\n",
    "            sample = {'image': image, 'labels_diseases': labels_diseases, 'labels_morphology': labels_morphology}\n",
    "        return sample\n"
   ]
  },
  {
   "cell_type": "code",
   "execution_count": null,
   "metadata": {},
   "outputs": [],
   "source": [
    "secondary_transforms = transforms.Normalize((0.485, 0.456, 0.406), (0.229, 0.224, 0.225))\n",
    "dataset = MorphDisDataset(images, labels_diseases, labels_morphology, secondary_transforms)"
   ]
  },
  {
   "cell_type": "code",
   "execution_count": null,
   "metadata": {},
   "outputs": [],
   "source": [
    "kf = StratifiedKFold(n_splits=5, random_state=42)\n",
    "for i, (train_indexes, test_indexes) in enumerate(kf.split(np.arange(len(labels_diseases)), labels_diseases)):\n",
    "    if i == wandb.config.fold_index:\n",
    "        train_sampler = SubsetRandomSampler(train_indexes)\n",
    "        test_sampler = SubsetRandomSampler(test_indexes)"
   ]
  },
  {
   "cell_type": "code",
   "execution_count": null,
   "metadata": {},
   "outputs": [],
   "source": [
    "train_loader = DataLoader(dataset, batch_size=wandb.config.batch_size, sampler=train_sampler)\n",
    "test_loader = DataLoader(dataset, batch_size=wandb.config.batch_size, sampler=test_sampler)"
   ]
  },
  {
   "cell_type": "code",
   "execution_count": null,
   "metadata": {},
   "outputs": [],
   "source": [
    "pos_weight = torch.tensor(np.sum(labels_morphology, axis=0))\n",
    "neg_weight = torch.tensor(np.sum(np.invert(labels_morphology.astype(np.bool)).astype(np.int), axis=0))\n",
    "pos_weight = neg_weight / pos_weight\n",
    "pos_weight = pos_weight.to(device)"
   ]
  },
  {
   "cell_type": "code",
   "execution_count": null,
   "metadata": {},
   "outputs": [],
   "source": [
    "net = Net(resnet34(pretrained=True), 20, 8)\n",
    "criterion_morphology = nn.BCEWithLogitsLoss(pos_weight=pos_weight)\n",
    "criterion_diseases = nn.CrossEntropyLoss()\n",
    "net = net.to(device)\n",
    "optimizer = Adam(net.parameters(), wandb.config.lr)"
   ]
  },
  {
   "cell_type": "code",
   "execution_count": null,
   "metadata": {},
   "outputs": [],
   "source": [
    "mapping_morphology = [\n",
    "    'пятно',\n",
    "    'бугорок',\n",
    "    'узел',\n",
    "    'папула',\n",
    "    'волдырь',\n",
    "    'пузырек',\n",
    "    'пузырь',\n",
    "    'гнойничок'\n",
    "]"
   ]
  },
  {
   "cell_type": "code",
   "execution_count": null,
   "metadata": {},
   "outputs": [],
   "source": [
    "def get_labels(predictions, treshold):\n",
    "    return (predictions > treshold).astype(int)"
   ]
  },
  {
   "cell_type": "code",
   "execution_count": null,
   "metadata": {},
   "outputs": [],
   "source": [
    "def get_metric_value(metric_name, y_true, y_pred):\n",
    "    if 'f1' in metric_name:\n",
    "        return f1_score(y_true, y_pred, average='macro')\n",
    "    elif 'precision' in metric_name:\n",
    "        return precision_score(y_true, y_pred, average='macro')\n",
    "    elif 'recall' in metric_name:\n",
    "        return recall_score(y_true, y_pred, average='macro')\n",
    "    elif 'accuracy' in metric_name:\n",
    "        return accuracy_score(y_true, y_pred)\n",
    "    elif 'mAP' in metric_name:\n",
    "        return average_precision_score(y_true, y_pred)"
   ]
  },
  {
   "cell_type": "code",
   "execution_count": null,
   "metadata": {},
   "outputs": [],
   "source": [
    "def log_epoch_diseases(epoch, y_true_train, y_pred_train, y_true_test, y_pred_test, train_loss, test_loss,\n",
    "                       current_metrics):\n",
    "    step = {'epoch': epoch, f'dis loss/train': train_loss, f'dis loss/test': test_loss}\n",
    "\n",
    "    for k, v in current_metrics.items():\n",
    "        if 'train' in k:\n",
    "            value = get_metric_value(k, y_true_train, y_pred_train)\n",
    "        else:\n",
    "            value = get_metric_value(k, y_true_test, y_pred_test)\n",
    "        step[k] = value\n",
    "        current_metrics[k] = max(value, v)\n",
    "    return current_metrics, step\n",
    "\n",
    "\n",
    "def log_epoch_morphology(step, y_true_train, y_pred_train, y_true_test, y_pred_test, train_loss, test_loss, mapping,\n",
    "                         current_metrics):\n",
    "    step['mor loss/train'] = train_loss\n",
    "    step['mor loss/test'] = test_loss\n",
    "\n",
    "    for k, v in current_metrics.items():\n",
    "        if 'class' in k:\n",
    "            i = mapping.index(k.split('/')[1].split(' ')[1])\n",
    "            if 'train' in k:\n",
    "                value = get_metric_value(k, y_true_train[:, i], y_pred_train[:, i])\n",
    "            else:\n",
    "                value = get_metric_value(k, y_true_test[:, i], y_pred_test[:, i])\n",
    "        elif 'mAP' in k:\n",
    "            if 'train' in k:\n",
    "                value = get_metric_value(k, y_true_train.reshape(-1), y_pred_train.reshape(-1))\n",
    "            else:\n",
    "                value = get_metric_value(k, y_true_test.reshape(-1), y_pred_test.reshape(-1))\n",
    "        else:\n",
    "            treshold = float(k.split('/')[1].split(' ')[1])\n",
    "            if 'train' in k:\n",
    "                value = get_metric_value(k, y_true_train, get_labels(y_pred_train, treshold))\n",
    "            else:\n",
    "                value = get_metric_value(k, y_true_test, get_labels(y_pred_test, treshold))\n",
    "        step[k] = value\n",
    "        current_metrics[k] = max(v, value)\n",
    "\n",
    "    wandb.log(step)\n",
    "    return current_metrics"
   ]
  },
  {
   "cell_type": "code",
   "execution_count": null,
   "metadata": {},
   "outputs": [],
   "source": [
    "@timeit\n",
    "def evaluate_net(net, data_loader, log_step, data_loader_name='train'):\n",
    "    net.eval()\n",
    "    with torch.no_grad():\n",
    "        y_true_b1 = np.zeros((1))\n",
    "        y_pred_b1 = np.empty((1))\n",
    "        y_true_b2 = np.empty((1, 8))\n",
    "        y_pred_b2 = np.empty((1, 8))\n",
    "        loss_b1 = 0.0\n",
    "        loss_b2 = 0.0\n",
    "        print(f'Evaluating {data_loader_name}:')\n",
    "        for i, data in enumerate(data_loader, 0):\n",
    "            inputs, labels_diseases, labels_morphology = data['image'], data['labels_diseases'], data[\n",
    "                'labels_morphology']\n",
    "            o1, o2 = net(inputs.to(device))\n",
    "\n",
    "            mask = torch.tensor(1 - (labels_morphology.sum(axis=1) > 0) * 1).int()\n",
    "\n",
    "            labels_morphology = labels_morphology[mask != 1].to(device)\n",
    "            o2 = o2[mask != 1]\n",
    "\n",
    "            loss1 = criterion_diseases(o1, labels_diseases.to(device).long())\n",
    "            loss2 = criterion_morphology(o2, labels_morphology)\n",
    "\n",
    "            loss_b1 += loss1.item()\n",
    "            loss_b2 += loss2.item()\n",
    "\n",
    "            predicted_b1 = torch.argmax(F.softmax(o1), axis=1).cpu().detach().numpy()\n",
    "            predicted_b2 = torch.sigmoid(o2).cpu().detach().numpy()\n",
    "\n",
    "            y_true_b1 = np.concatenate((y_true_b1, labels_diseases.cpu().numpy()))\n",
    "            y_pred_b1 = np.concatenate((y_pred_b1, predicted_b1))\n",
    "\n",
    "            y_true_b2 = np.concatenate((y_true_b2, labels_morphology.cpu().numpy()))\n",
    "            y_pred_b2 = np.concatenate((y_pred_b2, predicted_b2))\n",
    "\n",
    "            if (i + 1) % log_step == 0:\n",
    "                print(f'Batches processed: {i + 1}/{len(data_loader)}')\n",
    "\n",
    "        loss_b1 = loss_b1 / len(data_loader)\n",
    "        loss_b2 = loss_b2 / len(data_loader)\n",
    "\n",
    "        y_true_b1 = y_true_b1[1:].astype(np.int)\n",
    "        y_pred_b1 = y_pred_b1[1:]\n",
    "        y_true_b2 = y_true_b2[1:].astype(np.int)\n",
    "        y_pred_b2 = y_pred_b2[1:]\n",
    "\n",
    "        return (y_true_b1, y_pred_b1, loss_b1), (y_true_b2, y_pred_b2, loss_b2)\n"
   ]
  },
  {
   "cell_type": "code",
   "execution_count": null,
   "metadata": {},
   "outputs": [],
   "source": [
    "@timeit\n",
    "def train_net(net, optimizer, data_loader, log_step):\n",
    "    net.train()\n",
    "    print('Training:')\n",
    "    for i, data in enumerate(data_loader, 0):\n",
    "        inputs, labels_diseases, labels_morphology = data['image'], data['labels_diseases'], data['labels_morphology']\n",
    "\n",
    "        optimizer.zero_grad()\n",
    "\n",
    "        o1, o2 = net(inputs.to(device))\n",
    "\n",
    "        loss1 = criterion_diseases(o1, labels_diseases.to(device).long())\n",
    "\n",
    "        mask = torch.tensor(1 - (labels_morphology.sum(axis=1) > 0) * 1).int()\n",
    "        labels_morphology = labels_morphology[mask != 1].to(device)\n",
    "        o2 = o2[mask != 1]\n",
    "        loss2 = criterion_morphology(o2, labels_morphology)\n",
    "\n",
    "        if torch.isnan(loss2).any():\n",
    "            loss = loss1\n",
    "        else:\n",
    "            loss = loss1 + loss2\n",
    "\n",
    "        if (i + 1) % log_step == 0:\n",
    "            print(f'Batches processed: {i + 1}/{len(data_loader)}')\n",
    "\n",
    "        loss.backward()\n",
    "        optimizer.step()"
   ]
  },
  {
   "cell_type": "code",
   "execution_count": null,
   "metadata": {},
   "outputs": [],
   "source": [
    "def initialize_metrics(dis_prefix, mor_prefix, mapping):\n",
    "    d_metrics_list = ['f1', 'recall', 'accuracy', 'precision']\n",
    "    metrics_diseases = {}\n",
    "    for m in d_metrics_list:\n",
    "        metrics_diseases[f'{dis_prefix} {m}/train'] = 0\n",
    "        metrics_diseases[f'{dis_prefix} {m}/test'] = 0\n",
    "    m_metrics_list = ['f1', 'recall', 'precision']\n",
    "    metrics_morphology = {}\n",
    "    for m in m_metrics_list:\n",
    "        for treshold in np.arange(0.1, 1, 0.1):\n",
    "            metrics_morphology[f'{mor_prefix} {m}/train {round(treshold, 1)}'] = 0\n",
    "            metrics_morphology[f'{mor_prefix} {m}/test {round(treshold, 1)}'] = 0\n",
    "    for i in range(8):\n",
    "        metrics_morphology[f'{mor_prefix} mAP class/train {mapping[i]}'] = 0\n",
    "        metrics_morphology[f'{mor_prefix} mAP class/test {mapping[i]}'] = 0\n",
    "    metrics_morphology[f'mor mAP/train'] = 0\n",
    "    metrics_morphology[f'mor mAP/test'] = 0\n",
    "    return metrics_diseases, metrics_morphology"
   ]
  },
  {
   "cell_type": "code",
   "execution_count": null,
   "metadata": {},
   "outputs": [],
   "source": [
    "monitor = Monitor(600)\n",
    "metrics_diseases, metrics_morphology = initialize_metrics('dis', 'mor', mapping_morphology)\n",
    "for epoch in range(wandb.config.epochs):\n",
    "    train_net(net, optimizer, train_loader, 250)\n",
    "    b1, b2 = evaluate_net(net, train_loader, 250, 'train')\n",
    "    y_true_train_b1, y_pred_train_b1, loss_train_b1 = b1\n",
    "    y_true_train_b2, y_pred_train_b2, loss_train_b2 = b2\n",
    "    b1, b2 = evaluate_net(net, test_loader, 100, 'test')\n",
    "    y_true_test_b1, y_pred_test_b1, loss_test_b1 = b1\n",
    "    y_true_test_b2, y_pred_test_b2, loss_test_b2 = b2 \n",
    "    metrics_diseases, step = log_epoch_diseases(epoch, y_true_train_b1, y_pred_train_b1, y_true_test_b1, y_pred_test_b1,\n",
    "                                                loss_train_b1, loss_test_b1, metrics_diseases)\n",
    "    metrics_morphology = log_epoch_morphology(step, y_true_train_b2, y_pred_train_b2, y_true_test_b2, y_pred_test_b2,\n",
    "                                              loss_train_b2, loss_test_b2, mapping_morphology, metrics_morphology)\n",
    "print('Finished')\n",
    "monitor.stop()"
   ]
  },
  {
   "cell_type": "code",
   "execution_count": null,
   "metadata": {},
   "outputs": [],
   "source": [
    "for k, v in metrics_diseases.items():\n",
    "    wandb.run.summary[k] = v\n",
    "for k, v in metrics_morphology.items():\n",
    "    wandb.run.summary[k] = v"
   ]
  }
 ],
 "metadata": {
  "kernelspec": {
   "display_name": "Python 3",
   "language": "python",
   "name": "python3"
  },
  "language_info": {
   "codemirror_mode": {
    "name": "ipython",
    "version": 3
   },
   "file_extension": ".py",
   "mimetype": "text/x-python",
   "name": "python",
   "nbconvert_exporter": "python",
   "pygments_lexer": "ipython3",
   "version": "3.7.7"
  }
 },
 "nbformat": 4,
 "nbformat_minor": 4
}