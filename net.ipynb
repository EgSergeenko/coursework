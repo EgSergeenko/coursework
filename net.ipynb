{
 "cells": [
  {
   "cell_type": "code",
   "execution_count": 1,
   "metadata": {},
   "outputs": [],
   "source": [
    "import os\n",
    "from pathlib import Path\n",
    "\n",
    "import numpy as np\n",
    "import matplotlib.pyplot as plt\n",
    "from skimage import io, transform\n",
    "\n",
    "import torch\n",
    "import torch.nn as nn\n",
    "import torch.optim as optim\n",
    "from torchvision import models\n",
    "import torchvision.transforms as transforms\n",
    "from torch.utils.data import Dataset, DataLoader"
   ]
  },
  {
   "cell_type": "code",
   "execution_count": 2,
   "metadata": {},
   "outputs": [],
   "source": [
    "classes = ('nodule', 'papule', 'plaque')"
   ]
  },
  {
   "cell_type": "code",
   "execution_count": 3,
   "metadata": {},
   "outputs": [],
   "source": [
    "def imshow(img):\n",
    "    npimg = img.numpy()\n",
    "    plt.imshow(np.transpose(npimg, (1, 2, 0)))\n",
    "    plt.show()"
   ]
  },
  {
   "cell_type": "code",
   "execution_count": 4,
   "metadata": {},
   "outputs": [],
   "source": [
    "class SkinDiseasesDataset(Dataset):\n",
    "\n",
    "    def __init__(self, root, transform=None):\n",
    "        self.transform = transform\n",
    "        self.root = os.path.join('classes', root)\n",
    "        self.indexes = self.get_indexes()\n",
    "        self.classes = {'nodule': 0, 'papule': 1, 'plaque': 2}\n",
    "\n",
    "    def __len__(self):\n",
    "        length = 0\n",
    "        for folder in os.listdir(self.root):\n",
    "            length += len(os.listdir(os.path.join(self.root, folder)))\n",
    "        return length\n",
    "\n",
    "    def get_indexes(self):\n",
    "        indexes = []\n",
    "        for filename in (Path(self.root)).rglob('*.*'):\n",
    "            indexes.append(filename)\n",
    "        return indexes\n",
    "\n",
    "    def __getitem__(self, i):\n",
    "        filename = self.indexes[i]\n",
    "        label = os.path.dirname(filename).split(\"\\\\\")[-1]\n",
    "        label = self.classes[label]\n",
    "        image = io.imread(filename)\n",
    "        sample = {'image': image, 'label': label}\n",
    "        if self.transform:\n",
    "            sample = self.transform(sample)\n",
    "        return sample"
   ]
  },
  {
   "cell_type": "code",
   "execution_count": 5,
   "metadata": {},
   "outputs": [],
   "source": [
    "class ToTensor:\n",
    "\n",
    "    def __call__(self, sample):\n",
    "        image, label = sample['image'], sample['label']\n",
    "        image = image[:, :, :3]  # удаление alpha канала\n",
    "        image = image.transpose((2, 0, 1))\n",
    "        return {'image': torch.from_numpy(image).double(),\n",
    "                'label': label}"
   ]
  },
  {
   "cell_type": "code",
   "execution_count": 6,
   "metadata": {},
   "outputs": [],
   "source": [
    "class Resize:\n",
    "\n",
    "    def __init__(self, output_size):\n",
    "        self.output_size = output_size\n",
    "\n",
    "    def __call__(self, sample):\n",
    "        image, label = sample['image'], sample['label']\n",
    "        image = transform.resize(image, (self.output_size, self.output_size))\n",
    "        return {'image': image, 'label': label}"
   ]
  },
  {
   "cell_type": "code",
   "execution_count": 7,
   "metadata": {},
   "outputs": [],
   "source": [
    "composed = transforms.Compose(\n",
    "    [Resize(128), ToTensor()])"
   ]
  },
  {
   "cell_type": "code",
   "execution_count": 8,
   "metadata": {},
   "outputs": [],
   "source": [
    "dataset = SkinDiseasesDataset(root='train', transform=composed)\n",
    "trainloader = DataLoader(dataset, batch_size=4,\n",
    "                         shuffle=True, num_workers=0)\n",
    "dataset = SkinDiseasesDataset(root='valid', transform=composed)\n",
    "testloader = DataLoader(dataset, batch_size=4,\n",
    "                        shuffle=True, num_workers=0)"
   ]
  },
  {
   "cell_type": "code",
   "execution_count": 9,
   "metadata": {},
   "outputs": [],
   "source": [
    "net = models.resnet18(pretrained=True)"
   ]
  },
  {
   "cell_type": "code",
   "execution_count": 10,
   "metadata": {},
   "outputs": [],
   "source": [
    "net.fc = nn.Linear(net.fc.in_features, 3)"
   ]
  },
  {
   "cell_type": "code",
   "execution_count": 11,
   "metadata": {},
   "outputs": [],
   "source": [
    "criterion = nn.CrossEntropyLoss()\n",
    "optimizer = optim.SGD(net.parameters(), lr=0.001, momentum=0.9)"
   ]
  },
  {
   "cell_type": "code",
   "execution_count": 12,
   "metadata": {},
   "outputs": [
    {
     "name": "stdout",
     "output_type": "stream",
     "text": [
      "Epoch: 1, 25%, loss: 1.2480095529556274\n",
      "Epoch: 1, 50%, loss: 1.14595960855484\n",
      "Epoch: 1, 75%, loss: 1.2333840698003768\n",
      "Epoch: 2, 25%, loss: 0.8757703787088394\n",
      "Epoch: 2, 50%, loss: 0.845480443239212\n",
      "Epoch: 2, 75%, loss: 1.1835740065574647\n",
      "Epoch: 3, 25%, loss: 0.8578951352834702\n",
      "Epoch: 3, 50%, loss: 1.0106253147125244\n",
      "Epoch: 3, 75%, loss: 1.1413308030366898\n",
      "Finished\n"
     ]
    }
   ],
   "source": [
    "for epoch in range(3):\n",
    "    running_loss = 0.0\n",
    "    for i, data in enumerate(trainloader, 0):\n",
    "        inputs, labels = data['image'], data['label']\n",
    "        optimizer.zero_grad()\n",
    "        outputs = net(inputs.float())\n",
    "        loss = criterion(outputs, labels)\n",
    "        loss.backward()\n",
    "        optimizer.step()\n",
    "\n",
    "        running_loss += loss.item()\n",
    "\n",
    "        if (i + 1) % 25 == 0:\n",
    "            print(f'Epoch: {epoch + 1}, {i + 1}%, loss: {running_loss / 25}')\n",
    "            running_loss = 0.0\n",
    "\n",
    "print('Finished')"
   ]
  },
  {
   "cell_type": "code",
   "execution_count": 13,
   "metadata": {},
   "outputs": [
    {
     "name": "stdout",
     "output_type": "stream",
     "text": [
      "Accuracy: 60.0 %\n"
     ]
    }
   ],
   "source": [
    "correct = 0\n",
    "total = 0\n",
    "with torch.no_grad():\n",
    "    for data in testloader:\n",
    "        images, labels = data['image'], data['label']\n",
    "        outputs = net(images.float())\n",
    "        _, predicted = torch.max(outputs.data, 1)\n",
    "        total += labels.size(0)\n",
    "        correct += (predicted == labels).sum().item()\n",
    "print(f'Accuracy: {100 * correct / total} %')"
   ]
  }
 ],
 "metadata": {
  "kernelspec": {
   "display_name": "Python 3",
   "language": "python",
   "name": "python3"
  },
  "language_info": {
   "codemirror_mode": {
    "name": "ipython",
    "version": 3
   },
   "file_extension": ".py",
   "mimetype": "text/x-python",
   "name": "python",
   "nbconvert_exporter": "python",
   "pygments_lexer": "ipython3",
   "version": "3.7.7"
  }
 },
 "nbformat": 4,
 "nbformat_minor": 4
}
