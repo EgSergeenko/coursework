{
 "cells": [
  {
   "cell_type": "code",
   "execution_count": null,
   "metadata": {},
   "outputs": [],
   "source": [
    "import os\n",
    "import torch\n",
    "import wandb\n",
    "import numpy as np\n",
    "from torchvision.models import resnet34 \n",
    "from torchvision.datasets import ImageFolder\n",
    "from sklearn.model_selection import train_test_split\n",
    "from sklearn.metrics import f1_score, precision_score, recall_score, accuracy_score, average_precision_score\n",
    "from torch.utils.data import SubsetRandomSampler, DataLoader\n",
    "from torch.optim import Adam\n",
    "from torchvision import transforms\n",
    "from torch import nn "
   ]
  },
  {
   "cell_type": "code",
   "execution_count": null,
   "metadata": {},
   "outputs": [],
   "source": [
    "import warnings\n",
    "warnings.filterwarnings('ignore')"
   ]
  },
  {
   "cell_type": "code",
   "execution_count": null,
   "metadata": {},
   "outputs": [],
   "source": [
    "wandb.init(project='net_diseases')"
   ]
  },
  {
   "cell_type": "code",
   "execution_count": null,
   "metadata": {},
   "outputs": [],
   "source": [
    "if torch.cuda.is_available():  \n",
    "    dev = \"cuda:0\" \n",
    "else:  \n",
    "    dev = \"cpu\" \n",
    "device = torch.device(dev) "
   ]
  },
  {
   "cell_type": "code",
   "execution_count": null,
   "metadata": {},
   "outputs": [],
   "source": [
    "class CustomCrop:\n",
    "    \n",
    "    def __call__(self, sample):\n",
    "        shape = sample.shape\n",
    "        min_dimension = min(shape[1], shape[2])\n",
    "        center_crop = transforms.CenterCrop(min_dimension)\n",
    "        sample = center_crop(sample)\n",
    "        return sample"
   ]
  },
  {
   "cell_type": "code",
   "execution_count": null,
   "metadata": {},
   "outputs": [],
   "source": [
    "composed = transforms.Compose(\n",
    "    [transforms.ToTensor(), CustomCrop(), transforms.Resize((224, 224)),\n",
    "     transforms.Normalize((0.485, 0.456, 0.406), (0.229, 0.224, 0.225))])"
   ]
  },
  {
   "cell_type": "code",
   "execution_count": null,
   "metadata": {},
   "outputs": [],
   "source": [
    "dataset = ImageFolder(root='root', transform=composed)"
   ]
  },
  {
   "cell_type": "code",
   "execution_count": null,
   "metadata": {},
   "outputs": [],
   "source": [
    "targets = dataset.targets"
   ]
  },
  {
   "cell_type": "code",
   "execution_count": null,
   "metadata": {},
   "outputs": [],
   "source": [
    "train_indexes, test_indexes = train_test_split(np.arange(len(targets)), test_size=0.2, shuffle=True, stratify=targets)"
   ]
  },
  {
   "cell_type": "code",
   "execution_count": null,
   "metadata": {},
   "outputs": [],
   "source": [
    "train_sampler = SubsetRandomSampler(train_indexes)\n",
    "test_sampler = SubsetRandomSampler(test_indexes)"
   ]
  },
  {
   "cell_type": "code",
   "execution_count": null,
   "metadata": {},
   "outputs": [],
   "source": [
    "wandb.config.batch_size = 32"
   ]
  },
  {
   "cell_type": "code",
   "execution_count": null,
   "metadata": {},
   "outputs": [],
   "source": [
    "train_loader = DataLoader(dataset, batch_size=wandb.config.batch_size, sampler=train_sampler)\n",
    "test_loader = DataLoader(dataset, batch_size=wandb.config.batch_size, sampler=test_sampler)"
   ]
  },
  {
   "cell_type": "code",
   "execution_count": null,
   "metadata": {},
   "outputs": [],
   "source": [
    "net = resnet34(pretrained=True)\n",
    "net.fc = nn.Linear(net.fc.in_features, 20)\n",
    "net = net.to(device)"
   ]
  },
  {
   "cell_type": "code",
   "execution_count": null,
   "metadata": {},
   "outputs": [],
   "source": [
    "wandb.config.learning_rate = 0.00001\n",
    "criterion = nn.CrossEntropyLoss()\n",
    "optimizer = Adam(net.parameters(), lr=wandb.config.learning_rate)"
   ]
  },
  {
   "cell_type": "code",
   "execution_count": null,
   "metadata": {},
   "outputs": [],
   "source": [
    "mapping = ['атопический дерматит',\n",
    "           'акне',\n",
    "           'псориаз',\n",
    "           'розацеа',\n",
    "           'бородавки',\n",
    "           'герпес',\n",
    "           'витилиго',\n",
    "           'клп',\n",
    "           'аллергический контактный дерматит',\n",
    "           'экзема',\n",
    "           'дерматомикозы',\n",
    "           'булезный пемфигоид', \n",
    "           'пузырчатка',\n",
    "           'контагиозный моллюск',\n",
    "           'крапивница',\n",
    "           'кератоз',\n",
    "           'чесотка',\n",
    "           'себореный дерматит',\n",
    "           'актинический',\n",
    "           'базалиома']"
   ]
  },
  {
   "cell_type": "code",
   "execution_count": null,
   "metadata": {},
   "outputs": [],
   "source": [
    "def log_epoch(epoch, y_true_train, y_pred_train, y_true_test, y_pred_test, train_loss, test_loss):\n",
    "    step = {'epoch': epoch, 'train loss': train_loss, 'test loss': test_loss}\n",
    "    \n",
    "    map_train = average_precision_score(y_true_train.reshape(-1), y_pred_train.reshape(-1))\n",
    "    map_test = average_precision_score(y_true_test.reshape(-1), y_pred_test.reshape(-1))\n",
    "\n",
    "    current_metrics = [map_train, map_test]\n",
    "    \n",
    "    step['mAP/train'] = map_train\n",
    "    step['mAP/test'] = map_test\n",
    "    \n",
    "    \n",
    "\n",
    "    step[f'f1/train'] = f1_score(np.argmax(y_true_train, 1), np.argmax(y_pred_train, 1), average='macro')\n",
    "    step[f'f1/test'] = f1_score(np.argmax(y_true_test, 1), np.argmax(y_pred_test, 1), average='macro')\n",
    "    step[f'precision/train'] = precision_score(np.argmax(y_true_train, 1), np.argmax(y_pred_train, 1), average='macro')\n",
    "    step[f'precision/test'] = precision_score(np.argmax(y_true_test, 1), np.argmax(y_pred_test, 1), average='macro')\n",
    "    step[f'recall/train'] = recall_score(np.argmax(y_true_train, 1), np.argmax(y_pred_train, 1), average='macro')\n",
    "    step[f'recall/test'] = recall_score(np.argmax(y_true_test, 1), np.argmax(y_pred_test, 1), average='macro')\n",
    "    step[f'accuracy/train'] = accuracy_score(np.argmax(y_true_train, 1), np.argmax(y_pred_train, 1))\n",
    "    step[f'accuracy/test'] = accuracy_score(np.argmax(y_true_test, 1), np.argmax(y_pred_test, 1))\n",
    "\n",
    "    current_metrics.append(f1_score(np.argmax(y_true_train, 1), np.argmax(y_pred_train, 1), average='macro'))\n",
    "    current_metrics.append(f1_score(np.argmax(y_true_test, 1), np.argmax(y_pred_test, 1), average='macro'))\n",
    "    current_metrics.append(precision_score(np.argmax(y_true_train, 1), np.argmax(y_pred_train, 1), average='macro'))\n",
    "    current_metrics.append(precision_score(np.argmax(y_true_test, 1), np.argmax(y_pred_test, 1), average='macro'))\n",
    "    current_metrics.append(recall_score(np.argmax(y_true_train, 1), np.argmax(y_pred_train, 1), average='macro'))\n",
    "    current_metrics.append(recall_score(np.argmax(y_true_test, 1), np.argmax(y_pred_test, 1), average='macro'))\n",
    "    current_metrics.append(accuracy_score(np.argmax(y_true_train, 1), np.argmax(y_pred_train, 1)))\n",
    "    current_metrics.append(accuracy_score(np.argmax(y_true_test, 1), np.argmax(y_pred_test, 1)))\n",
    "    \n",
    "    for i in range(20):\n",
    "        step[f'mAP class train/{mapping[i]}'] = average_precision_score(y_true_train[:, i], y_pred_train[:, i])\n",
    "        step[f'mAP class test/{mapping[i]}'] = average_precision_score(y_true_test[:, i], y_pred_test[:, i])\n",
    "        \n",
    "        current_metrics.append(average_precision_score(y_true_train[:, i], y_pred_train[:, i]))\n",
    "        current_metrics.append(average_precision_score(y_true_test[:, i], y_pred_test[:, i]))\n",
    "    \n",
    "    \n",
    "    wandb.log(step)\n",
    "    return current_metrics"
   ]
  },
  {
   "cell_type": "code",
   "execution_count": null,
   "metadata": {},
   "outputs": [],
   "source": [
    "wandb.config.epochs = 100"
   ]
  },
  {
   "cell_type": "code",
   "execution_count": null,
   "metadata": {},
   "outputs": [],
   "source": [
    "best_metrics = []\n",
    "current_metrics = []\n",
    "for epoch in range(wandb.config.epochs):\n",
    "    print('Training:')\n",
    "    net.train()\n",
    "    running_loss = 0.0\n",
    "    j = 0\n",
    "    for i, data in enumerate(train_loader, 0):\n",
    "        inputs, labels = data[0], data[1]\n",
    "        optimizer.zero_grad()\n",
    "        outputs = net(inputs.to(device))\n",
    "        loss = criterion(outputs, labels.to(device))\n",
    "        loss.backward()\n",
    "        optimizer.step()\n",
    "\n",
    "        running_loss += loss.item()\n",
    "        j += 1\n",
    "        if (i + 1) % 100 == 0:\n",
    "            print(f'Epoch: {epoch + 1}, {i + 1}/{len(train_loader)}, loss: {running_loss / j}')\n",
    "            running_loss = 0.0\n",
    "            j = 0\n",
    "            \n",
    "    \n",
    "    net.eval()\n",
    "    \n",
    "    with torch.no_grad():\n",
    "        print('Evaluating train:')\n",
    "        y_true_train = np.empty((1, 20))\n",
    "        y_pred_train = np.empty((1, 20))\n",
    "        train_loss = 0.0\n",
    "        \n",
    "        for i, data in enumerate(train_loader, 0):\n",
    "            images, labels = data[0], data[1]\n",
    "            outputs = net(images.to(device))\n",
    "            loss = criterion(outputs, labels.to(device))\n",
    "            train_loss += loss.item()\n",
    "            \n",
    "            t = np.zeros((len(labels), 20))\n",
    "            for j in range(len(labels)):\n",
    "                t[j, labels[j]] = 1\n",
    "            \n",
    "            predicted = nn.functional.softmax(outputs).cpu().detach().numpy()\n",
    "            y_true_train = np.concatenate((y_true_train, t))\n",
    "            y_pred_train = np.concatenate((y_pred_train, predicted))\n",
    "        \n",
    "            if (i + 1) % 100 == 0:\n",
    "                print(f'Epoch: {epoch + 1}, {i + 1}/{len(train_loader)}')\n",
    "\n",
    "        train_loss = train_loss / len(train_loader)\n",
    "        \n",
    "        \n",
    "        print('Evaluating test:')\n",
    "        y_true_test = np.empty((1, 20))\n",
    "        y_pred_test = np.empty((1, 20))\n",
    "        test_loss = 0.0\n",
    "        \n",
    "        for i, data in enumerate(test_loader, 0):\n",
    "            images, labels = data[0], data[1]\n",
    "            outputs = net(images.to(device))\n",
    "            loss = criterion(outputs, labels.to(device))\n",
    "            test_loss += loss.item()\n",
    "            \n",
    "            \n",
    "            t = np.zeros((len(labels), 20))\n",
    "            for j in range(len(labels)):\n",
    "                t[j, labels[j]] = 1\n",
    "            \n",
    "            predicted = nn.functional.softmax(outputs).cpu().detach().numpy()\n",
    "            y_true_test = np.concatenate((y_true_test, t))\n",
    "            y_pred_test = np.concatenate((y_pred_test, predicted))\n",
    "            \n",
    "            if (i + 1) % 100 == 0:\n",
    "                print(f'Epoch: {epoch + 1}, {i + 1}/{len(test_loader)}')\n",
    "            \n",
    "        test_loss = test_loss / len(test_loader)\n",
    "    \n",
    "    y_true_train = y_true_train[1:]\n",
    "    y_pred_train = y_pred_train[1:]\n",
    "    y_true_test = y_true_test[1:]\n",
    "    y_pred_test = y_pred_test[1:]\n",
    "        \n",
    "    current_metrics = log_epoch(epoch + 1,\n",
    "                                y_true_train,\n",
    "                                y_pred_train,\n",
    "                                y_true_test,\n",
    "                                y_pred_test,\n",
    "                                train_loss,\n",
    "                                test_loss\n",
    "    )\n",
    "    \n",
    "    if len(best_metrics) == 0:\n",
    "        best_metrics = current_metrics.copy()\n",
    "    \n",
    "    i = 0\n",
    "    for b, c in zip(best_metrics, current_metrics):\n",
    "        best_metrics[i] = max(b, c)\n",
    "        i += 1\n",
    "        \n",
    "    torch.save(net.state_dict(), f'net_{epoch}.pt')\n",
    "    torch.save(optimizer.state_dict(), f'opt_{epoch}.pt')\n",
    "    \n",
    "    if os.path.exists(f'net_{epoch - 1}.pt'):\n",
    "        os.remove(f'net_{epoch - 1}.pt')\n",
    "        os.remove(f'opt_{epoch - 1}.pt')\n",
    "        \n",
    "    \n",
    "print('Finished')"
   ]
  },
  {
   "cell_type": "code",
   "execution_count": null,
   "metadata": {},
   "outputs": [],
   "source": [
    "wandb.run.summary['mAP/train'] = best_metrics[0]\n",
    "wandb.run.summary['mAP/test'] = best_metrics[1]\n",
    "j = 2\n",
    "wandb.run.summary[f'f1/train'] = best_metrics[j]; j += 1 \n",
    "wandb.run.summary[f'f1/test'] = best_metrics[j]; j += 1\n",
    "wandb.run.summary[f'precision/train'] = best_metrics[j]; j += 1 \n",
    "wandb.run.summary[f'precision/test'] = best_metrics[j]; j += 1\n",
    "wandb.run.summary[f'recall/train'] = best_metrics[j]; j += 1\n",
    "wandb.run.summary[f'recall/test'] = best_metrics[j]; j += 1\n",
    "wandb.run.summary[f'accuracy/train'] = best_metrics[j]; j += 1\n",
    "wandb.run.summary[f'accuracy/test'] = best_metrics[j]; j += 1\n",
    "\n",
    "for i in range(20):\n",
    "    wandb.run.summary[f'mAP class train/{mapping[i]}'] = best_metrics[j]; j += 1\n",
    "    wandb.run.summary[f'mAP class test/{mapping[i]}'] = best_metrics[j]; j += 1"
   ]
  }
 ],
 "metadata": {
  "kernelspec": {
   "display_name": "Python 3",
   "language": "python",
   "name": "python3"
  },
  "language_info": {
   "codemirror_mode": {
    "name": "ipython",
    "version": 3
   },
   "file_extension": ".py",
   "mimetype": "text/x-python",
   "name": "python",
   "nbconvert_exporter": "python",
   "pygments_lexer": "ipython3",
   "version": "3.7.7"
  }
 },
 "nbformat": 4,
 "nbformat_minor": 4
}
