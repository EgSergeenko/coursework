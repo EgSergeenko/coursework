{
 "cells": [
  {
   "cell_type": "code",
   "execution_count": null,
   "metadata": {},
   "outputs": [],
   "source": [
    "from torchvision.models import resnet34 \n",
    "from torchvision.datasets import ImageFolder\n",
    "from sklearn.model_selection import train_test_split\n",
    "from sklearn.metrics import f1_score, precision_score, recall_score, accuracy_score\n",
    "from torch.utils.data import SubsetRandomSampler, DataLoader\n",
    "from torch.optim import Adam\n",
    "from skimage import transform\n",
    "from torchvision import transforms\n",
    "from torchvision.utils import make_grid\n",
    "from torch import nn \n",
    "import numpy as np\n",
    "import torch\n",
    "import wandb"
   ]
  },
  {
   "cell_type": "code",
   "execution_count": null,
   "metadata": {},
   "outputs": [],
   "source": [
    "import warnings\n",
    "warnings.filterwarnings('ignore')"
   ]
  },
  {
   "cell_type": "code",
   "execution_count": null,
   "metadata": {},
   "outputs": [],
   "source": [
    "wandb.init(project='net_web_images')"
   ]
  },
  {
   "cell_type": "code",
   "execution_count": null,
   "metadata": {},
   "outputs": [],
   "source": [
    "if torch.cuda.is_available():  \n",
    "    dev = \"cuda:0\" \n",
    "else:  \n",
    "    dev = \"cpu\" \n",
    "device = torch.device(dev) "
   ]
  },
  {
   "cell_type": "code",
   "execution_count": null,
   "metadata": {},
   "outputs": [],
   "source": [
    "composed = transforms.Compose(\n",
    "    [transforms.ToTensor(), transforms.CenterCrop(300), transforms.Resize((224, 224)),\n",
    "     transforms.Normalize((0.485, 0.456, 0.406), (0.229, 0.224, 0.225))])"
   ]
  },
  {
   "cell_type": "code",
   "execution_count": null,
   "metadata": {},
   "outputs": [],
   "source": [
    "dataset = ImageFolder(root='root', transform=composed)"
   ]
  },
  {
   "cell_type": "code",
   "execution_count": null,
   "metadata": {},
   "outputs": [],
   "source": [
    "targets = dataset.targets"
   ]
  },
  {
   "cell_type": "code",
   "execution_count": null,
   "metadata": {},
   "outputs": [],
   "source": [
    "train_indexes, test_indexes = train_test_split(np.arange(len(targets)), test_size=0.2, shuffle=True, stratify=targets)"
   ]
  },
  {
   "cell_type": "code",
   "execution_count": null,
   "metadata": {},
   "outputs": [],
   "source": [
    "train_sampler = SubsetRandomSampler(train_indexes)\n",
    "test_sampler = SubsetRandomSampler(test_indexes)"
   ]
  },
  {
   "cell_type": "code",
   "execution_count": null,
   "metadata": {},
   "outputs": [],
   "source": [
    "batch_size = 32"
   ]
  },
  {
   "cell_type": "code",
   "execution_count": null,
   "metadata": {},
   "outputs": [],
   "source": [
    "train_loader = DataLoader(dataset, batch_size=batch_size, sampler=train_sampler)\n",
    "test_loader = DataLoader(dataset, batch_size=batch_size, sampler=test_sampler)"
   ]
  },
  {
   "cell_type": "code",
   "execution_count": null,
   "metadata": {},
   "outputs": [],
   "source": [
    "net = resnet34(pretrained=True)"
   ]
  },
  {
   "cell_type": "code",
   "execution_count": null,
   "metadata": {},
   "outputs": [],
   "source": [
    "net.fc = nn.Linear(net.fc.in_features, 17)"
   ]
  },
  {
   "cell_type": "code",
   "execution_count": null,
   "metadata": {},
   "outputs": [],
   "source": [
    "net = net.to(device)"
   ]
  },
  {
   "cell_type": "code",
   "execution_count": null,
   "metadata": {},
   "outputs": [],
   "source": [
    "criterion = nn.CrossEntropyLoss()\n",
    "optimizer = Adam(net.parameters(), lr=0.01)"
   ]
  },
  {
   "cell_type": "code",
   "execution_count": null,
   "metadata": {},
   "outputs": [],
   "source": [
    "def log_metrics(y_true_train, y_pred_train, y_true_test, y_pred_test, epoch):\n",
    "    f_score_train = f1_score(y_true_train, y_pred_train, average='macro')\n",
    "    precision_train = precision_score(y_true_train, y_pred_train, average='macro')\n",
    "    recall_train = recall_score(y_true_train, y_pred_train, average='macro')\n",
    "    accuracy_train = accuracy_score(y_true_train, y_pred_train)\n",
    "    f_score_test = f1_score(y_true_test, y_pred_test, average='macro')\n",
    "    precision_test = precision_score(y_true_test, y_pred_test, average='macro')\n",
    "    recall_test = recall_score(y_true_test, y_pred_test, average='macro')\n",
    "    accuracy_test = accuracy_score(y_true_test, y_pred_test)\n",
    "    wandb.log({'train accuracy': accuracy_train, 'train precision': precision_train, 'train recall': recall_train, 'train f_score': f_score_train,\n",
    "              'test accuracy': accuracy_test, 'test precision': precision_test, 'test recall': recall_test, 'test f_score': f_score_test, 'epoch': epoch})\n",
    "    return accuracy_train, accuracy_test, precision_train, precision_test, recall_train, recall_test, f_score_train, f_score_test"
   ]
  },
  {
   "cell_type": "code",
   "execution_count": null,
   "metadata": {},
   "outputs": [],
   "source": [
    "epochs_n = 10"
   ]
  },
  {
   "cell_type": "code",
   "execution_count": null,
   "metadata": {},
   "outputs": [],
   "source": [
    "best_accuracy_train, best_accuracy_test, best_precision_train, best_precision_test, best_recall_train, best_recall_test, best_f_score_train, best_f_score_test = [0] * 8\n",
    "for epoch in range(epochs_n):\n",
    "    net.train()\n",
    "    running_loss = 0.0\n",
    "    j = 0\n",
    "    for i, data in enumerate(train_loader, 0):\n",
    "        inputs, labels = data[0], data[1]\n",
    "        optimizer.zero_grad()\n",
    "        outputs = net(inputs.to(device))\n",
    "        loss = criterion(outputs, labels.to(device))\n",
    "        loss.backward()\n",
    "        optimizer.step()\n",
    "\n",
    "        running_loss += loss.item()\n",
    "        j += 1\n",
    "        if (i + 1) % 100 == 0:\n",
    "            print(f'Epoch: {epoch + 1}, {i + 1}/{len(train_loader)}, loss: {running_loss / j}')\n",
    "            running_loss = 0.0\n",
    "            j = 0\n",
    "    net.eval()\n",
    "    with torch.no_grad():\n",
    "        y_true_train = []\n",
    "        y_pred_train = []\n",
    "        for data in train_loader:\n",
    "            images, labels = data[0], data[1]\n",
    "            outputs = net(images.to(device))\n",
    "            _, predicted = torch.max(outputs.data, 1)\n",
    "            y_true_train.extend(labels.tolist())\n",
    "            y_pred_train.extend(predicted.tolist())\n",
    "\n",
    "        y_true_test = []\n",
    "        y_pred_test = []\n",
    "        for data in test_loader:\n",
    "            images, labels = data[0], data[1]\n",
    "            outputs = net(images.to(device))\n",
    "            _, predicted = torch.max(outputs.data, 1)\n",
    "            y_true_test.extend(labels.tolist())\n",
    "            y_pred_test.extend(predicted.tolist())\n",
    "        \n",
    "        accuracy_train, accuracy_test, precision_train, precision_test, recall_train, recall_test, f_score_train, f_score_test = log_metrics(y_true_train, y_pred_train, y_true_test, y_pred_test, epoch + 1)\n",
    "        \n",
    "        if best_accuracy_train < accuracy_train:\n",
    "            best_accuracy_train = accuracy_train\n",
    "        if best_accuracy_test < accuracy_test:\n",
    "            best_accuracy_test = accuracy_test\n",
    "        if best_recall_train < recall_train:\n",
    "            best_recall_train = recall_train\n",
    "        if best_recall_test < recall_test:\n",
    "            best_recall_test = recall_test\n",
    "        if best_precision_train < precision_train:\n",
    "            best_precision_train = precision_train\n",
    "        if best_precision_test < precision_test:\n",
    "            best_precision_test = precision_test\n",
    "        if best_f_score_train < f_score_train:\n",
    "            best_f_score_train = f_score_train\n",
    "        if best_f_score_test < f_score_test:\n",
    "            best_f_score_test = f_score_test\n",
    "        \n",
    "print('Finished')"
   ]
  },
  {
   "cell_type": "code",
   "execution_count": null,
   "metadata": {},
   "outputs": [],
   "source": [
    "wandb.run.summary[\"accuracy train\"] = best_accuracy_train\n",
    "wandb.run.summary[\"accuracy test\"] = best_accuracy_test\n",
    "wandb.run.summary[\"recall train\"] = best_recall_train\n",
    "wandb.run.summary[\"recall test\"] = best_recall_test\n",
    "wandb.run.summary[\"precision train\"] = best_precision_train\n",
    "wandb.run.summary[\"precision test\"] = best_precision_test\n",
    "wandb.run.summary[\"f-score train\"] = best_f_score_train\n",
    "wandb.run.summary[\"f-score test\"] = best_f_score_test"
   ]
  }
 ],
 "metadata": {
  "kernelspec": {
   "display_name": "Python 3",
   "language": "python",
   "name": "python3"
  },
  "language_info": {
   "codemirror_mode": {
    "name": "ipython",
    "version": 3
   },
   "file_extension": ".py",
   "mimetype": "text/x-python",
   "name": "python",
   "nbconvert_exporter": "python",
   "pygments_lexer": "ipython3",
   "version": "3.7.7"
  }
 },
 "nbformat": 4,
 "nbformat_minor": 4
}