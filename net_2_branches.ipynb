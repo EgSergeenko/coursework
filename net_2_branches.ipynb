{
 "cells": [
  {
   "cell_type": "code",
   "execution_count": null,
   "metadata": {},
   "outputs": [],
   "source": [
    "import os\n",
    "import warnings\n",
    "import pickle\n",
    "\n",
    "import wandb\n",
    "import numpy as np\n",
    "from skimage import io\n",
    "from sklearn.model_selection import train_test_split\n",
    "import torch\n",
    "import torch.nn as nn\n",
    "from torchvision.models import resnet34\n",
    "import torch.nn.functional as F\n",
    "from torchvision import transforms\n",
    "from torch.utils.data import Dataset, DataLoader, SubsetRandomSampler\n",
    "from torch.optim import Adam"
   ]
  },
  {
   "cell_type": "code",
   "execution_count": null,
   "metadata": {},
   "outputs": [],
   "source": [
    "warnings.filterwarnings('ignore')"
   ]
  },
  {
   "cell_type": "code",
   "execution_count": null,
   "metadata": {},
   "outputs": [],
   "source": [
    "with open('y_stratified.pickle', 'rb') as f:\n",
    "    y = pickle.load(f)"
   ]
  },
  {
   "cell_type": "code",
   "execution_count": null,
   "metadata": {},
   "outputs": [],
   "source": [
    "if torch.cuda.is_available():\n",
    "    dev = 'cuda:0'\n",
    "else:\n",
    "    dev = 'cpu'\n",
    "device = torch.device(dev)"
   ]
  },
  {
   "cell_type": "code",
   "execution_count": null,
   "metadata": {},
   "outputs": [],
   "source": [
    "root_dir = 'net_dis_morph'"
   ]
  },
  {
   "cell_type": "code",
   "execution_count": null,
   "metadata": {},
   "outputs": [],
   "source": [
    "resnet = resnet34(pretrained=True)"
   ]
  },
  {
   "cell_type": "code",
   "execution_count": null,
   "metadata": {},
   "outputs": [],
   "source": [
    "class CustomCrop:\n",
    "    \n",
    "    def __call__(self, sample):\n",
    "        shape = sample.shape\n",
    "        min_dimension = min(shape[1], shape[2])\n",
    "        center_crop = transforms.CenterCrop(min_dimension)\n",
    "        sample = center_crop(sample)\n",
    "        return sample"
   ]
  },
  {
   "cell_type": "code",
   "execution_count": null,
   "metadata": {},
   "outputs": [],
   "source": [
    "class Net(nn.Module):\n",
    "    def __init__(self, resnet, out_features_diseases, out_features_morph):\n",
    "        super(Net, self).__init__()\n",
    "        self.base_model = nn.Sequential(*list(resnet.children())[:-1])\n",
    "        self.branch_1 = nn.Linear(512, out_features_diseases)\n",
    "        self.branch_2 = nn.Linear(512, out_features_morph)\n",
    "        \n",
    "    def forward(self, x):\n",
    "        x = self.base_model(x)\n",
    "        x = torch.flatten(x, 1)\n",
    "        x1 = self.branch_1(x)\n",
    "        x2 = self.branch_2(x)\n",
    "        return x1, x2"
   ]
  },
  {
   "cell_type": "code",
   "execution_count": null,
   "metadata": {},
   "outputs": [],
   "source": [
    "class MorphDisDataset(Dataset):\n",
    "    \n",
    "    def __init__(self, root_dir, transform, labels_file):\n",
    "        self.root_dir = root_dir\n",
    "        self.transform = transform\n",
    "        with open(labels_file, 'rb') as f:\n",
    "            self.labels = pickle.load(f)\n",
    "        \n",
    "        \n",
    "    def __len__(self):\n",
    "        return len([name for name in os.listdir(self.root_dir) if os.path.isfile(os.path.join(self.root_dir, name))])\n",
    "    \n",
    "    def __getitem__(self, idx):\n",
    "        \n",
    "        filename = f'{idx}.jpg'\n",
    "        labels = self.labels[idx]\n",
    "        \n",
    "        image = io.imread(f'{self.root_dir}/{filename}').copy()\n",
    "        \n",
    "        labels_morphology = np.zeros(8)\n",
    "        for l in labels['morphology']:\n",
    "            labels_morphology[l - 1] = 1\n",
    "        \n",
    "        if self.transform:\n",
    "            sample = {'image': self.transform(image), 'labels_diseases': labels['disease'] - 1, 'labels_morphology': labels_morphology}\n",
    "        else:\n",
    "            sample = {'image': image, 'labels_diseases': labels['disease'] - 1, 'labels_morphology': labels_morphology}\n",
    "        return sample"
   ]
  },
  {
   "cell_type": "code",
   "execution_count": null,
   "metadata": {},
   "outputs": [],
   "source": [
    "composed = transforms.Compose(\n",
    "    [transforms.ToTensor(), CustomCrop(), transforms.Resize((224, 224)),\n",
    "     transforms.Normalize((0.485, 0.456, 0.406), (0.229, 0.224, 0.225))])"
   ]
  },
  {
   "cell_type": "code",
   "execution_count": null,
   "metadata": {},
   "outputs": [],
   "source": [
    "dataset = MorphDisDataset(root_dir, composed, 'labels.pickle')"
   ]
  },
  {
   "cell_type": "code",
   "execution_count": null,
   "metadata": {},
   "outputs": [],
   "source": [
    "with open('labels.pickle', 'rb') as f:\n",
    "    labels = pickle.load(f)"
   ]
  },
  {
   "cell_type": "code",
   "execution_count": null,
   "metadata": {},
   "outputs": [],
   "source": [
    "# y = []\n",
    "# for i in range(len(dataset)):\n",
    "#     y.append(np.where(dataset[i]['labels_diseases'] == 1)[0][0])"
   ]
  },
  {
   "cell_type": "code",
   "execution_count": null,
   "metadata": {},
   "outputs": [],
   "source": [
    "# with open('y_stratified.pickle', 'wb') as f:\n",
    "#     pickle.dump(y, f)"
   ]
  },
  {
   "cell_type": "code",
   "execution_count": null,
   "metadata": {},
   "outputs": [],
   "source": [
    "train_indexes, test_indexes = train_test_split(np.arange(len(y)), test_size=0.2, shuffle=True, stratify=y)\n",
    "train_sampler = SubsetRandomSampler(train_indexes)\n",
    "test_sampler = SubsetRandomSampler(test_indexes)"
   ]
  },
  {
   "cell_type": "code",
   "execution_count": null,
   "metadata": {},
   "outputs": [],
   "source": [
    "batch_size = 16\n",
    "train_loader = DataLoader(dataset, batch_size=batch_size, sampler=train_sampler)\n",
    "test_loader = DataLoader(dataset, batch_size=batch_size, sampler=test_sampler)"
   ]
  },
  {
   "cell_type": "code",
   "execution_count": null,
   "metadata": {},
   "outputs": [],
   "source": [
    "pos_weight = torch.zeros(8)\n",
    "for i in range(len(dataset.labels)):\n",
    "    if len(dataset.labels[i]) > 0:\n",
    "        for l in dataset.labels[i]['morphology']:\n",
    "            pos_weight[int(l) - 1] += 1\n",
    "pos_weight = pos_weight / pos_weight.sum()\n",
    "pos_weight = pos_weight.to(device)"
   ]
  },
  {
   "cell_type": "code",
   "execution_count": null,
   "metadata": {},
   "outputs": [],
   "source": [
    "net = Net(resnet, 20, 8)\n",
    "criterion_morphology = nn.BCEWithLogitsLoss(pos_weight=pos_weight)\n",
    "criterion_diseases = nn.CrossEntropyLoss()"
   ]
  },
  {
   "cell_type": "code",
   "execution_count": null,
   "metadata": {},
   "outputs": [],
   "source": [
    "lr = 0.00001\n",
    "net = net.to(device)\n",
    "optimizer = Adam(net.parameters(), lr)"
   ]
  },
  {
   "cell_type": "code",
   "execution_count": null,
   "metadata": {},
   "outputs": [],
   "source": [
    "epochs = 100\n",
    "for epoch in range(epochs):\n",
    "    net.train()\n",
    "    for i, data in enumerate(train_loader, 0):\n",
    "        inputs, labels_diseases, labels_morphology = data['image'], data['labels_diseases'], data['labels_morphology']\n",
    "        optimizer.zero_grad()\n",
    "        o1, o2 = net(inputs.to(device))\n",
    "        \n",
    "        loss1 = criterion_diseases(o1, labels_diseases.to(device).long())\n",
    "        \n",
    "        mask = np.ones(len(labels_morphology), dtype=bool)\n",
    "        for idx, l in enumerate(labels_morphology, 0):\n",
    "            if sum(l) != 0:\n",
    "                mask[idx] = False\n",
    "        mask = torch.tensor(mask).int()\n",
    "        \n",
    "        labels_morphology = labels_morphology[mask != 1].to(device)\n",
    "        o2 = o2[mask != 1]\n",
    "        \n",
    "        loss2 = criterion_morphology(o2, labels_morphology)\n",
    "        \n",
    "        loss = loss1 + loss2\n",
    "        loss.backward()\n",
    "        optimizer.step()"
   ]
  }
 ],
 "metadata": {
  "kernelspec": {
   "display_name": "Python 3",
   "language": "python",
   "name": "python3"
  },
  "language_info": {
   "codemirror_mode": {
    "name": "ipython",
    "version": 3
   },
   "file_extension": ".py",
   "mimetype": "text/x-python",
   "name": "python",
   "nbconvert_exporter": "python",
   "pygments_lexer": "ipython3",
   "version": "3.7.7"
  }
 },
 "nbformat": 4,
 "nbformat_minor": 4
}
