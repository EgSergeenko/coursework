{
 "cells": [
  {
   "cell_type": "code",
   "execution_count": null,
   "metadata": {},
   "outputs": [],
   "source": [
    " import os\n",
    "\n",
    "import torch\n",
    "import wandb\n",
    "import numpy as np\n",
    "from skimage import io, transform\n",
    "from torchvision import transforms\n",
    "from torch.utils.data import Dataset, DataLoader, SubsetRandomSampler\n",
    "from torchvision.models import resnet34 \n",
    "from torch.optim import Adam\n",
    "from torch import nn\n",
    "from sklearn.model_selection import train_test_split\n",
    "from sklearn.metrics import f1_score, recall_score, precision_score, average_precision_score"
   ]
  },
  {
   "cell_type": "code",
   "execution_count": null,
   "metadata": {},
   "outputs": [],
   "source": [
    "import warnings\n",
    "warnings.filterwarnings('ignore')"
   ]
  },
  {
   "cell_type": "code",
   "execution_count": null,
   "metadata": {},
   "outputs": [],
   "source": [
    "wandb.init(project='net_primary_morphology')"
   ]
  },
  {
   "cell_type": "code",
   "execution_count": null,
   "metadata": {},
   "outputs": [],
   "source": [
    "if torch.cuda.is_available():\n",
    "    dev = 'cuda:0'\n",
    "else:\n",
    "    dev = 'cpu'\n",
    "device = torch.device(dev)"
   ]
  },
  {
   "cell_type": "code",
   "execution_count": null,
   "metadata": {},
   "outputs": [],
   "source": [
    "root_dir = '/mnt/tank/scratch/esergeenko/net_primary_morph'"
   ]
  },
  {
   "cell_type": "code",
   "execution_count": null,
   "metadata": {},
   "outputs": [],
   "source": [
    "pos_weight = torch.zeros(8)\n",
    "for file in os.listdir(root_dir):\n",
    "    ms = file.strip('.jpg').split('_')[1:]\n",
    "    for m in ms:\n",
    "        pos_weight[int(m) - 1] += 1 \n",
    "pos_weight = pos_weight / pos_weight.sum()\n",
    "pos_weight = pos_weight.to(device)"
   ]
  },
  {
   "cell_type": "code",
   "execution_count": null,
   "metadata": {},
   "outputs": [],
   "source": [
    "class CustomCrop:\n",
    "    \n",
    "    def __call__(self, sample):\n",
    "        shape = sample.shape\n",
    "        min_dimension = min(shape[1], shape[2])\n",
    "        center_crop = transforms.CenterCrop(min_dimension)\n",
    "        sample = center_crop(sample)\n",
    "        return sample"
   ]
  },
  {
   "cell_type": "code",
   "execution_count": null,
   "metadata": {},
   "outputs": [],
   "source": [
    "composed = transforms.Compose(\n",
    "    [transforms.ToTensor(), CustomCrop(), transforms.Resize((224, 224)),\n",
    "     transforms.Normalize((0.485, 0.456, 0.406), (0.229, 0.224, 0.225))])"
   ]
  },
  {
   "cell_type": "code",
   "execution_count": null,
   "metadata": {},
   "outputs": [],
   "source": [
    "class MorphDataset(Dataset):\n",
    "    def __init__(self, root_dir, transform=None):\n",
    "        \n",
    "        self.root_dir = root_dir\n",
    "        self.transform = transform\n",
    "        \n",
    "    def __len__(self):\n",
    "        return len([name for name in os.listdir(self.root_dir) if os.path.isfile(os.path.join(self.root_dir, name))])\n",
    "    \n",
    "    \n",
    "    def __getitem__(self, idx):\n",
    "        \n",
    "        if torch.is_tensor(idx):\n",
    "            idx = idx.tolist()\n",
    "            \n",
    "            \n",
    "        for file in os.listdir(self.root_dir):\n",
    "            if file.startswith(f'{idx}_'):\n",
    "                filename = file\n",
    "                break\n",
    "        \n",
    "\n",
    "        labels = filename.strip('.jpg').split('_')[1:]\n",
    "        labels = [int(l) for l in labels]\n",
    "        image = io.imread(f'{self.root_dir}\\{filename}').copy()\n",
    "        \n",
    "        label = torch.zeros(8)\n",
    "        \n",
    "        for l in labels:\n",
    "            label[int(l) - 1] = 1\n",
    "            \n",
    "        if self.transform:\n",
    "            sample = {'image': self.transform(image), 'label': label}\n",
    "        else:\n",
    "            sample = {'image': image, 'label': label}\n",
    "        return sample"
   ]
  },
  {
   "cell_type": "code",
   "execution_count": null,
   "metadata": {},
   "outputs": [],
   "source": [
    "dataset = MorphDataset(root_dir, transform=composed)"
   ]
  },
  {
   "cell_type": "code",
   "execution_count": null,
   "metadata": {},
   "outputs": [],
   "source": [
    "y = []\n",
    "for i in range(len(dataset)):\n",
    "    y.append(max(dataset[i]['label'].tolist()))"
   ]
  },
  {
   "cell_type": "code",
   "execution_count": null,
   "metadata": {},
   "outputs": [],
   "source": [
    "train_indexes, test_indexes = train_test_split(np.arange(len(y)), test_size=0.2, shuffle=True, stratify=y)\n",
    "train_sampler = SubsetRandomSampler(train_indexes)\n",
    "test_sampler = SubsetRandomSampler(test_indexes)"
   ]
  },
  {
   "cell_type": "code",
   "execution_count": null,
   "metadata": {},
   "outputs": [],
   "source": [
    "wandb.config.batch_size = 16"
   ]
  },
  {
   "cell_type": "code",
   "execution_count": null,
   "metadata": {},
   "outputs": [],
   "source": [
    "train_loader = DataLoader(dataset, batch_size=wandb.config.batch_size, sampler=train_sampler)\n",
    "test_loader = DataLoader(dataset, batch_size=wandb.config.batch_size, sampler=test_sampler)"
   ]
  },
  {
   "cell_type": "code",
   "execution_count": null,
   "metadata": {},
   "outputs": [],
   "source": [
    "net = resnet34(pretrained=True)\n",
    "criterion = nn.BCEWithLogitsLoss(pos_weight=pos_weight)"
   ]
  },
  {
   "cell_type": "code",
   "execution_count": null,
   "metadata": {},
   "outputs": [],
   "source": [
    "wandb.config.lr = 0.00001\n",
    "net.fc = nn.Linear(net.fc.in_features, 8)\n",
    "net = net.to(device)\n",
    "optimizer = Adam(net.parameters(), wandb.config.lr)"
   ]
  },
  {
   "cell_type": "code",
   "execution_count": null,
   "metadata": {},
   "outputs": [],
   "source": [
    "def get_labels(predictions, treshold):\n",
    "    return (predictions > treshold).astype(int)"
   ]
  },
  {
   "cell_type": "code",
   "execution_count": null,
   "metadata": {},
   "outputs": [],
   "source": [
    "mapping = [\n",
    "    'пятно',\n",
    "    'бугорок',\n",
    "    'узел',\n",
    "    'папула',\n",
    "    'волдырь',\n",
    "    'пузырек',\n",
    "    'пузырь',\n",
    "    'гнойничок',\n",
    "    'гиперпигментация',\n",
    "    'гипопигментация',\n",
    "    'эрозия',\n",
    "    'язва',\n",
    "    'чешуйка',\n",
    "    'корка',\n",
    "    'рубец',\n",
    "    'трещина',\n",
    "    'экскориация',\n",
    "    'кератоз',\n",
    "    'лихенификация',\n",
    "    'вегетация',\n",
    "    'дерматосклероз',\n",
    "    'анетодермия',\n",
    "    'атрофодермия',\n",
    "]"
   ]
  },
  {
   "cell_type": "code",
   "execution_count": null,
   "metadata": {},
   "outputs": [],
   "source": [
    "def log_epoch(epoch, y_true_train, y_pred_train, y_true_test, y_pred_test, train_loss, test_loss):\n",
    "    step = {'epoch': epoch, 'train loss': train_loss, 'test loss': test_loss}\n",
    "    \n",
    "    map_train = average_precision_score(y_true_train.reshape(-1), y_pred_train.reshape(-1))\n",
    "    map_test = average_precision_score(y_true_test.reshape(-1), y_pred_test.reshape(-1))\n",
    "\n",
    "    current_metrics = [map_train, map_test]\n",
    "    \n",
    "    step['mAP/train'] = map_train\n",
    "    step['mAP/test'] = map_test\n",
    "    \n",
    "    \n",
    "    for treshold in np.arange(0.1, 1, 0.1):\n",
    "        step[f'f1 train/{round(treshold, 1)}'] = f1_score(y_true_train, get_labels(y_pred_train, treshold), average='macro')\n",
    "        step[f'f1 test/{round(treshold, 1)}'] = f1_score(y_true_test, get_labels(y_pred_test, treshold), average='macro')\n",
    "        step[f'precision train/{round(treshold, 1)}'] = precision_score(y_true_train, get_labels(y_pred_train, treshold), average='macro')\n",
    "        step[f'precision test/{round(treshold, 1)}'] = precision_score(y_true_test, get_labels(y_pred_test, treshold), average='macro')\n",
    "        step[f'recall train/{round(treshold, 1)}'] = recall_score(y_true_train, get_labels(y_pred_train, treshold), average='macro')\n",
    "        step[f'recall test/{round(treshold, 1)}'] = recall_score(y_true_test, get_labels(y_pred_test, treshold), average='macro')\n",
    "        \n",
    "        current_metrics.append(f1_score(y_true_train, get_labels(y_pred_train, treshold), average='macro'))\n",
    "        current_metrics.append(f1_score(y_true_test, get_labels(y_pred_test, treshold), average='macro'))\n",
    "        current_metrics.append(precision_score(y_true_train, get_labels(y_pred_train, treshold), average='macro'))\n",
    "        current_metrics.append(precision_score(y_true_test, get_labels(y_pred_test, treshold), average='macro'))\n",
    "        current_metrics.append(recall_score(y_true_train, get_labels(y_pred_train, treshold), average='macro'))\n",
    "        current_metrics.append(recall_score(y_true_test, get_labels(y_pred_test, treshold), average='macro'))\n",
    "    \n",
    "    for i in range(8):\n",
    "        step[f'mAP class train/{mapping[i]}'] = average_precision_score(y_true_train[:, i], y_pred_train[:, i])\n",
    "        step[f'mAP class test/{mapping[i]}'] = average_precision_score(y_true_test[:, i], y_pred_test[:, i])\n",
    "        \n",
    "        current_metrics.append(average_precision_score(y_true_train[:, i], y_pred_train[:, i]))\n",
    "        current_metrics.append(average_precision_score(y_true_test[:, i], y_pred_test[:, i]))\n",
    "    \n",
    "    \n",
    "    wandb.log(step)\n",
    "    return current_metrics"
   ]
  },
  {
   "cell_type": "code",
   "execution_count": null,
   "metadata": {},
   "outputs": [],
   "source": [
    "wandb.config.epochs = 100"
   ]
  },
  {
   "cell_type": "code",
   "execution_count": null,
   "metadata": {},
   "outputs": [],
   "source": [
    "best_metrics = []\n",
    "current_metrics = []\n",
    "for epoch in range(wandb.config.epochs):\n",
    "    net.train()\n",
    "    running_loss = 0.0\n",
    "    j = 0\n",
    "    for i, data in enumerate(train_loader, 0):\n",
    "        inputs, labels = data['image'], data['label']\n",
    "        optimizer.zero_grad()\n",
    "        outputs = net(inputs.to(device))\n",
    "        loss = criterion(outputs, labels.to(device))\n",
    "        loss.backward()\n",
    "        optimizer.step()\n",
    "\n",
    "        running_loss += loss.item()\n",
    "        j += 1\n",
    "        if (i + 1) % 100 == 0:\n",
    "            print(f'Epoch: {epoch + 1}, {i + 1}/{len(train_loader)}, loss: {running_loss / j}')\n",
    "            running_loss = 0.0\n",
    "            j = 0\n",
    "            \n",
    "    print('val')      \n",
    "    net.eval()\n",
    "    \n",
    "    with torch.no_grad():\n",
    "        y_true_train = np.empty((1, 8))\n",
    "        y_pred_train = np.empty((1, 8))\n",
    "        train_loss = 0.0\n",
    "        \n",
    "        for i, data in enumerate(train_loader, 0):\n",
    "            images, labels = data['image'], data['label']\n",
    "            outputs = net(images.to(device))\n",
    "            loss = criterion(outputs, labels.to(device))\n",
    "            train_loss += loss.item()\n",
    "            \n",
    "            predicted = nn.functional.softmax(outputs).cpu().detach().numpy()\n",
    "            y_true_train = np.concatenate((y_true_train, labels.numpy()))\n",
    "            y_pred_train = np.concatenate((y_pred_train, predicted))\n",
    "        \n",
    "            if (i + 1) % 100 == 0:\n",
    "                print(f'Epoch: {epoch + 1}, {i + 1}/{len(train_loader)}')\n",
    "\n",
    "        train_loss = train_loss / len(train_loader)\n",
    "\n",
    "        y_true_test = np.empty((1, 8))\n",
    "        y_pred_test = np.empty((1, 8))\n",
    "        test_loss = 0.0\n",
    "        \n",
    "        for i, data in enumerate(test_loader, 0):\n",
    "            images, labels = data['image'], data['label']\n",
    "            outputs = net(images.to(device))\n",
    "            loss = criterion(outputs, labels.to(device))\n",
    "            test_loss += loss.item()\n",
    "            \n",
    "            predicted = nn.functional.softmax(outputs).cpu().detach().numpy()\n",
    "            y_true_test = np.concatenate((y_true_test, labels.numpy()))\n",
    "            y_pred_test = np.concatenate((y_pred_test, predicted))\n",
    "            \n",
    "            if (i + 1) % 100 == 0:\n",
    "                print(f'Epoch: {epoch + 1}, {i + 1}/{len(test_loader)}')\n",
    "            \n",
    "        test_loss = test_loss / len(test_loader)\n",
    "    \n",
    "    y_true_train = y_true_train[1:]\n",
    "    y_pred_train = y_pred_train[1:]\n",
    "    y_true_test = y_true_test[1:]\n",
    "    y_pred_test = y_pred_test[1:]\n",
    "        \n",
    "    current_metrics = log_epoch(epoch + 1,\n",
    "                                y_true_train,\n",
    "                                y_pred_train,\n",
    "                                y_true_test,\n",
    "                                y_pred_test,\n",
    "                                train_loss,\n",
    "                                test_loss\n",
    "    )\n",
    "    \n",
    "    if len(best_metrics) == 0:\n",
    "        best_metrics = current_metrics.copy()\n",
    "    \n",
    "    i = 0\n",
    "    for b, c in zip(best_metrics, current_metrics):\n",
    "        best_metrics[i] = max(b, c)\n",
    "        i += 1\n",
    "        \n",
    "    torch.save(net.state_dict(), f'net_{epoch}.pt')\n",
    "    torch.save(optimizer.state_dict(), f'opt_{epoch}.pt')\n",
    "    \n",
    "    if os.path.exists(f'net_{epoch - 1}.pt'):\n",
    "        os.remove(f'net_{epoch - 1}.pt')\n",
    "        os.remove(f'opt_{epoch - 1}.pt')\n",
    "        \n",
    "    \n",
    "print('Finished')"
   ]
  },
  {
   "cell_type": "code",
   "execution_count": null,
   "metadata": {},
   "outputs": [],
   "source": [
    "wandb.run.summary['mAP/train'] = best_metrics[0]\n",
    "wandb.run.summary['mAP/test'] = best_metrics[1]\n",
    "j = 2\n",
    "for treshold in np.arange(0.1, 1, 0.1):\n",
    "    wandb.run.summary[f'f1 train/{round(treshold, 1)}'] = best_metrics[j]; j += 1 \n",
    "    wandb.run.summary[f'f1 test/{round(treshold, 1)}'] = best_metrics[j]; j += 1\n",
    "    wandb.run.summary[f'precision train/{round(treshold, 1)}'] = best_metrics[j]; j += 1 \n",
    "    wandb.run.summary[f'precision test/{round(treshold, 1)}'] = best_metrics[j]; j += 1\n",
    "    wandb.run.summary[f'recall train/{round(treshold, 1)}'] = best_metrics[j]; j += 1\n",
    "    wandb.run.summary[f'recall test/{round(treshold, 1)}'] = best_metrics[j]; j += 1\n",
    "\n",
    "for i in range(8):\n",
    "    wandb.run.summary[f'mAP class train/{mapping[i]}'] = best_metrics[j]; j += 1\n",
    "    wandb.run.summary[f'mAP class test/{mapping[i]}'] = best_metrics[j]; j += 1"
   ]
  }
 ],
 "metadata": {
  "kernelspec": {
   "display_name": "Python 3",
   "language": "python",
   "name": "python3"
  },
  "language_info": {
   "codemirror_mode": {
    "name": "ipython",
    "version": 3
   },
   "file_extension": ".py",
   "mimetype": "text/x-python",
   "name": "python",
   "nbconvert_exporter": "python",
   "pygments_lexer": "ipython3",
   "version": "3.7.7"
  }
 },
 "nbformat": 4,
 "nbformat_minor": 4
}
